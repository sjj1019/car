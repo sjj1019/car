{
 "cells": [
  {
   "cell_type": "code",
   "execution_count": 1,
   "metadata": {},
   "outputs": [
    {
     "name": "stdout",
     "output_type": "stream",
     "text": [
      "[0, 1, 2]\n"
     ]
    }
   ],
   "source": [
    "# 获取前三个元素 list\n",
    "nums = [0, 1, 2, 3, 4, 5, 6]\n",
    "print(nums[0:3:1])"
   ]
  },
  {
   "cell_type": "code",
   "execution_count": 2,
   "metadata": {},
   "outputs": [
    {
     "name": "stdout",
     "output_type": "stream",
     "text": [
      "(0, 1, 2)\n"
     ]
    }
   ],
   "source": [
    "# 获取前三个元素 tuple\n",
    "nums = (0, 1, 2, 3, 4, 5, 6)\n",
    "print(nums[0:3:1])"
   ]
  },
  {
   "cell_type": "code",
   "execution_count": 3,
   "metadata": {},
   "outputs": [
    {
     "name": "stdout",
     "output_type": "stream",
     "text": [
      "ith\n"
     ]
    }
   ],
   "source": [
    "# 获取前三个元素 字符串 \n",
    "str = 'itheima'\n",
    "print(str[0:3:1])"
   ]
  },
  {
   "cell_type": "code",
   "execution_count": 5,
   "metadata": {},
   "outputs": [
    {
     "name": "stdout",
     "output_type": "stream",
     "text": [
      "[0, 1, 2]\n",
      "[0, 1, 2]\n",
      "[0, 1, 2]\n"
     ]
    }
   ],
   "source": [
    "# step 步长为1， 可以省略\n",
    "nums = [0, 1, 2, 3, 4, 5, 6]\n",
    "print(nums[0:3:1])\n",
    "print(nums[0:3:])\n",
    "print(nums[0:3])"
   ]
  },
  {
   "cell_type": "code",
   "execution_count": 9,
   "metadata": {},
   "outputs": [
    {
     "name": "stdout",
     "output_type": "stream",
     "text": [
      "[0, 1, 2]\n",
      "[0, 1, 2]\n"
     ]
    }
   ],
   "source": [
    "# start 起始为0时，可以省略\n",
    "nums = [0, 1, 2, 3, 4, 5, 6]\n",
    "print(nums[0:3])\n",
    "print(nums[:3])"
   ]
  },
  {
   "cell_type": "code",
   "execution_count": 11,
   "metadata": {},
   "outputs": [
    {
     "name": "stdout",
     "output_type": "stream",
     "text": [
      "[3, 4, 5, 6]\n",
      "[3, 4, 5, 6]\n"
     ]
    }
   ],
   "source": [
    "# end 结束为末尾，也可以省略\n",
    "nums = [0, 1, 2, 3, 4, 5, 6]\n",
    "print(nums[3:7])\n",
    "print(nums[3:])"
   ]
  },
  {
   "cell_type": "code",
   "execution_count": 13,
   "metadata": {},
   "outputs": [
    {
     "name": "stdout",
     "output_type": "stream",
     "text": [
      "[0, 1, 2]\n",
      "[0, 1, 2]\n"
     ]
    }
   ],
   "source": [
    "# 获取前三个元素 list\n",
    "nums = [0, 1, 2, 3, 4, 5, 6]\n",
    "print(nums[:3])\n",
    "print(nums[:-4])"
   ]
  },
  {
   "cell_type": "code",
   "execution_count": 22,
   "metadata": {},
   "outputs": [
    {
     "name": "stdout",
     "output_type": "stream",
     "text": [
      "[2, 3, 4]\n",
      "[4, 3, 2]\n"
     ]
    }
   ],
   "source": [
    "# step 负数 -1， 反转\n",
    "nums = [0, 1, 2, 3, 4, 5, 6]\n",
    "print(nums[2:5])\n",
    "print(nums[4:1:-1])"
   ]
  },
  {
   "cell_type": "code",
   "execution_count": 25,
   "metadata": {},
   "outputs": [
    {
     "name": "stdout",
     "output_type": "stream",
     "text": [
      "[0, 1, 2]\n",
      "[2, 1, 0]\n"
     ]
    }
   ],
   "source": [
    "# 取前三个,反转\n",
    "nums = [0, 1, 2, 3, 4, 5, 6]\n",
    "print(nums[:3])\n",
    "print(nums[2::-1])"
   ]
  },
  {
   "cell_type": "code",
   "execution_count": null,
   "metadata": {},
   "outputs": [],
   "source": []
  }
 ],
 "metadata": {
  "kernelspec": {
   "display_name": "Python 3",
   "language": "python",
   "name": "python3"
  },
  "language_info": {
   "codemirror_mode": {
    "name": "ipython",
    "version": 3
   },
   "file_extension": ".py",
   "mimetype": "text/x-python",
   "name": "python",
   "nbconvert_exporter": "python",
   "pygments_lexer": "ipython3",
   "version": "3.7.6"
  }
 },
 "nbformat": 4,
 "nbformat_minor": 4
}
