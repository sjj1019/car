{
 "cells": [
  {
   "cell_type": "code",
   "execution_count": 2,
   "metadata": {},
   "outputs": [
    {
     "name": "stdout",
     "output_type": "stream",
     "text": [
      "itheima\n"
     ]
    }
   ],
   "source": [
    "# if 条件\n",
    "if 1 > 2:\n",
    "    print(\"itcast\")\n",
    "    \n",
    "print(\"itheima\")"
   ]
  },
  {
   "cell_type": "code",
   "execution_count": 4,
   "metadata": {},
   "outputs": [
    {
     "name": "stdout",
     "output_type": "stream",
     "text": [
      "itcast\n"
     ]
    }
   ],
   "source": [
    "# if else条件\n",
    "if 1 < 2:\n",
    "    print(\"itcast\")\n",
    "else:\n",
    "    print(\"itheima\")"
   ]
  },
  {
   "cell_type": "code",
   "execution_count": 7,
   "metadata": {},
   "outputs": [
    {
     "name": "stdout",
     "output_type": "stream",
     "text": [
      "itcast\n"
     ]
    }
   ],
   "source": [
    "# if elif else\n",
    "if 1 < 2:\n",
    "    print('itcast')\n",
    "elif 1 < 3: \n",
    "    print('itheima')\n",
    "else:\n",
    "    print('bxg')"
   ]
  },
  {
   "cell_type": "code",
   "execution_count": null,
   "metadata": {},
   "outputs": [],
   "source": [
    "age = input(\"请输入年龄\")\n",
    "print(age)"
   ]
  },
  {
   "cell_type": "code",
   "execution_count": 1,
   "metadata": {},
   "outputs": [
    {
     "name": "stdout",
     "output_type": "stream",
     "text": [
      "请输入年龄20\n",
      "允许进网吧嗨皮\n"
     ]
    }
   ],
   "source": [
    "# 输入用户年龄\n",
    "# 判断是否满 18 岁 （>=）\n",
    "# 如果满 18 岁，允许进网吧嗨皮\n",
    "# 如果未满 18 岁，提示回家写作业\n",
    "age = input(\"请输入年龄\")\n",
    "age = int(age)\n",
    "if age >= 18:\n",
    "    print(\"允许进网吧嗨皮\")\n",
    "else:\n",
    "    print(\"回家写作业\")"
   ]
  },
  {
   "cell_type": "code",
   "execution_count": 3,
   "metadata": {},
   "outputs": [
    {
     "name": "stdout",
     "output_type": "stream",
     "text": [
      "输入节日\n",
      "每天都是节日\n"
     ]
    }
   ],
   "source": [
    "# 定义 holiday 字符串变量记录节日名称\n",
    "# 如果是 情人节 应该 买玫瑰／看电影\n",
    "# 如果是 平安夜 应该 买苹果／吃大餐\n",
    "# 如果是 生日 应该 买蛋糕\n",
    "# 其他的日子每天都是节日啊……\n",
    "holiday = input('输入节日')\n",
    "if holiday == '情人节':\n",
    "    print('买玫瑰／看电影')\n",
    "elif holiday == '平安夜':\n",
    "    print('买苹果／吃大餐')\n",
    "elif holiday == '生日':\n",
    "    print('买蛋糕')\n",
    "else:\n",
    "    print('每天都是节日')"
   ]
  },
  {
   "cell_type": "code",
   "execution_count": 7,
   "metadata": {},
   "outputs": [
    {
     "name": "stdout",
     "output_type": "stream",
     "text": [
      "是否有车票1\n",
      "刀的长度10\n",
      "安检通过\n"
     ]
    }
   ],
   "source": [
    "# 嵌套\n",
    "# 定义布尔型变量 has_ticket 表示是否有车票\n",
    "# 定义整型变量 knife_length 表示刀的长度，单位：厘米\n",
    "# 首先检查是否有车票，如果有，才允许进行 安检\n",
    "# 安检时，需要检查刀的长度，判断是否超过 20 厘米 果超过 20 厘米，提示刀的长度，不允许上车 如果不超过 20 厘米，安检通过\n",
    "# 如果没有车票，不允许进门\n",
    "\n",
    "has_ticket = input('是否有车票')\n",
    "has_ticket = has_ticket == '1'\n",
    "\n",
    "if has_ticket:\n",
    "    knife_length = input('刀的长度')\n",
    "    knife_length = int(knife_length)\n",
    "    \n",
    "    if knife_length > 20:\n",
    "        print('刀的长度太长， 不允许上车')\n",
    "    else:\n",
    "        print('安检通过')\n",
    "else: \n",
    "    print('不允许进门')"
   ]
  },
  {
   "cell_type": "code",
   "execution_count": 8,
   "metadata": {},
   "outputs": [],
   "source": [
    "# int 和 not int， 条件判断"
   ]
  },
  {
   "cell_type": "code",
   "execution_count": 11,
   "metadata": {},
   "outputs": [
    {
     "name": "stdout",
     "output_type": "stream",
     "text": [
      "True\n"
     ]
    }
   ],
   "source": [
    "# 字符串\n",
    "str = 'itcast'\n",
    "print('itc' in str)"
   ]
  },
  {
   "cell_type": "code",
   "execution_count": 14,
   "metadata": {},
   "outputs": [
    {
     "name": "stdout",
     "output_type": "stream",
     "text": [
      "True\n",
      "True\n"
     ]
    }
   ],
   "source": [
    "# 列表\n",
    "names = ['itcast', 'itheima', 'bxg']\n",
    "print('itheima' in names)\n",
    "print('ithei' not in names)"
   ]
  },
  {
   "cell_type": "code",
   "execution_count": 16,
   "metadata": {},
   "outputs": [
    {
     "name": "stdout",
     "output_type": "stream",
     "text": [
      "True\n",
      "False\n"
     ]
    }
   ],
   "source": [
    "# 元祖\n",
    "names = ('itcast', 'itheima', 'bxg')\n",
    "print('itheima' in names)\n",
    "print('itheima' not in names)"
   ]
  },
  {
   "cell_type": "code",
   "execution_count": 21,
   "metadata": {},
   "outputs": [
    {
     "name": "stdout",
     "output_type": "stream",
     "text": [
      "True\n",
      "True\n"
     ]
    }
   ],
   "source": [
    "# 集合\n",
    "names = {'itcast', 'itheima', 'bxg'}\n",
    "print('itheima' in names)\n",
    "print('it' not in names)"
   ]
  },
  {
   "cell_type": "code",
   "execution_count": 23,
   "metadata": {},
   "outputs": [
    {
     "name": "stdout",
     "output_type": "stream",
     "text": [
      "True\n",
      "False\n"
     ]
    }
   ],
   "source": [
    "# 字典 判断key\n",
    "d = {'name': 'itcast', 'age': 10}\n",
    "\n",
    "print('name' in d)\n",
    "print('gender' in d)"
   ]
  },
  {
   "cell_type": "code",
   "execution_count": null,
   "metadata": {},
   "outputs": [],
   "source": []
  }
 ],
 "metadata": {
  "kernelspec": {
   "display_name": "Python 3",
   "language": "python",
   "name": "python3"
  },
  "language_info": {
   "codemirror_mode": {
    "name": "ipython",
    "version": 3
   },
   "file_extension": ".py",
   "mimetype": "text/x-python",
   "name": "python",
   "nbconvert_exporter": "python",
   "pygments_lexer": "ipython3",
   "version": "3.7.6"
  }
 },
 "nbformat": 4,
 "nbformat_minor": 4
}
