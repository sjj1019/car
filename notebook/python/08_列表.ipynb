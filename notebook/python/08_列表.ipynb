{
 "cells": [
  {
   "cell_type": "code",
   "execution_count": 2,
   "metadata": {},
   "outputs": [
    {
     "name": "stdout",
     "output_type": "stream",
     "text": [
      "['itcast', 'itheima', 'bxg']\n",
      "<class 'list'>\n"
     ]
    }
   ],
   "source": [
    "names = ['itcast', 'itheima', 'bxg']\n",
    "print(names)\n",
    "print(type(names))"
   ]
  },
  {
   "cell_type": "code",
   "execution_count": 4,
   "metadata": {},
   "outputs": [
    {
     "name": "stdout",
     "output_type": "stream",
     "text": [
      "3\n"
     ]
    }
   ],
   "source": [
    "# 列表长度\n",
    "print(len(names))"
   ]
  },
  {
   "cell_type": "code",
   "execution_count": 5,
   "metadata": {},
   "outputs": [
    {
     "name": "stdout",
     "output_type": "stream",
     "text": [
      "itheima\n"
     ]
    }
   ],
   "source": [
    "# 访问元素\n",
    "names = ['itcast', 'itheima', 'bxg']\n",
    "print(names[1])"
   ]
  },
  {
   "cell_type": "code",
   "execution_count": 8,
   "metadata": {},
   "outputs": [
    {
     "ename": "IndexError",
     "evalue": "list index out of range",
     "output_type": "error",
     "traceback": [
      "\u001b[0;31m---------------------------------------------------------------------------\u001b[0m",
      "\u001b[0;31mIndexError\u001b[0m                                Traceback (most recent call last)",
      "\u001b[0;32m<ipython-input-8-88cc4cd7b7a3>\u001b[0m in \u001b[0;36m<module>\u001b[0;34m\u001b[0m\n\u001b[1;32m      1\u001b[0m \u001b[0;31m# 访问元素\u001b[0m\u001b[0;34m\u001b[0m\u001b[0;34m\u001b[0m\u001b[0;34m\u001b[0m\u001b[0m\n\u001b[1;32m      2\u001b[0m \u001b[0mnames\u001b[0m \u001b[0;34m=\u001b[0m \u001b[0;34m[\u001b[0m\u001b[0;34m'itcast'\u001b[0m\u001b[0;34m,\u001b[0m \u001b[0;34m'itheima'\u001b[0m\u001b[0;34m,\u001b[0m \u001b[0;34m'bxg'\u001b[0m\u001b[0;34m]\u001b[0m\u001b[0;34m\u001b[0m\u001b[0;34m\u001b[0m\u001b[0m\n\u001b[0;32m----> 3\u001b[0;31m \u001b[0mprint\u001b[0m\u001b[0;34m(\u001b[0m\u001b[0mnames\u001b[0m\u001b[0;34m[\u001b[0m\u001b[0;36m3\u001b[0m\u001b[0;34m]\u001b[0m\u001b[0;34m)\u001b[0m\u001b[0;34m\u001b[0m\u001b[0;34m\u001b[0m\u001b[0m\n\u001b[0m",
      "\u001b[0;31mIndexError\u001b[0m: list index out of range"
     ]
    }
   ],
   "source": [
    "# 访问元素\n",
    "names = ['itcast', 'itheima', 'bxg']\n",
    "print(names[3])"
   ]
  },
  {
   "cell_type": "code",
   "execution_count": 9,
   "metadata": {},
   "outputs": [
    {
     "name": "stdout",
     "output_type": "stream",
     "text": [
      "bxg\n"
     ]
    }
   ],
   "source": [
    "# 访问元素\n",
    "names = ['itcast', 'itheima', 'bxg']\n",
    "print(names[-1])"
   ]
  },
  {
   "cell_type": "code",
   "execution_count": 13,
   "metadata": {},
   "outputs": [
    {
     "name": "stdout",
     "output_type": "stream",
     "text": [
      "itcast\n"
     ]
    }
   ],
   "source": [
    "# 访问元素\n",
    "names = ['itcast', 'itheima', 'bxg']\n",
    "print(names[-3])"
   ]
  },
  {
   "cell_type": "code",
   "execution_count": 14,
   "metadata": {},
   "outputs": [
    {
     "name": "stdout",
     "output_type": "stream",
     "text": [
      "['itcast', 'itheima', 'bxg', 'czxy']\n"
     ]
    }
   ],
   "source": [
    "# 添加元素 append\n",
    "names = ['itcast', 'itheima', 'bxg']\n",
    "names.append('czxy')\n",
    "print(names)"
   ]
  },
  {
   "cell_type": "code",
   "execution_count": 16,
   "metadata": {},
   "outputs": [
    {
     "name": "stdout",
     "output_type": "stream",
     "text": [
      "['itcast', 'czxy', 'itheima', 'bxg']\n"
     ]
    }
   ],
   "source": [
    "# 添加元素 insert\n",
    "names = ['itcast', 'itheima', 'bxg']\n",
    "names.insert(1, 'czxy')\n",
    "print(names)"
   ]
  },
  {
   "cell_type": "code",
   "execution_count": 17,
   "metadata": {},
   "outputs": [
    {
     "name": "stdout",
     "output_type": "stream",
     "text": [
      "['itcast', 'bxg']\n"
     ]
    }
   ],
   "source": [
    "# 删除元素 根据内容进行删除\n",
    "names = ['itcast', 'itheima', 'bxg']\n",
    "names.remove('itheima')\n",
    "print(names)"
   ]
  },
  {
   "cell_type": "code",
   "execution_count": 19,
   "metadata": {},
   "outputs": [
    {
     "name": "stdout",
     "output_type": "stream",
     "text": [
      "['itcast', 'bxg']\n"
     ]
    }
   ],
   "source": [
    "# 删除元素 根据索引进行删除 del delete\n",
    "names = ['itcast', 'itheima', 'bxg']\n",
    "del names[1]\n",
    "print(names)"
   ]
  },
  {
   "cell_type": "code",
   "execution_count": 20,
   "metadata": {},
   "outputs": [
    {
     "name": "stdout",
     "output_type": "stream",
     "text": [
      "['itcast', 'czxy', 'bxg']\n"
     ]
    }
   ],
   "source": [
    "# 修改\n",
    "names = ['itcast', 'itheima', 'bxg']\n",
    "names[1] = 'czxy'\n",
    "print(names)"
   ]
  },
  {
   "cell_type": "code",
   "execution_count": 21,
   "metadata": {},
   "outputs": [
    {
     "name": "stdout",
     "output_type": "stream",
     "text": [
      "1\n"
     ]
    }
   ],
   "source": [
    "# 索引查询 \n",
    "names = ['itcast', 'itheima', 'bxg']\n",
    "index = names.index('itheima')\n",
    "print(index)"
   ]
  },
  {
   "cell_type": "code",
   "execution_count": 22,
   "metadata": {},
   "outputs": [
    {
     "name": "stdout",
     "output_type": "stream",
     "text": [
      "['bxg', 'itheima', 'itcast']\n"
     ]
    }
   ],
   "source": [
    "# 反转\n",
    "names = ['itcast', 'itheima', 'bxg']\n",
    "names.reverse()\n",
    "print(names)"
   ]
  },
  {
   "cell_type": "code",
   "execution_count": 23,
   "metadata": {},
   "outputs": [
    {
     "name": "stdout",
     "output_type": "stream",
     "text": [
      "[5, 8, 10, 32, 90]\n"
     ]
    }
   ],
   "source": [
    "# 排序 升\n",
    "nums = [10, 8, 5, 90, 32]\n",
    "nums.sort()\n",
    "print(nums)"
   ]
  },
  {
   "cell_type": "code",
   "execution_count": 24,
   "metadata": {},
   "outputs": [
    {
     "name": "stdout",
     "output_type": "stream",
     "text": [
      "[90, 32, 10, 8, 5]\n"
     ]
    }
   ],
   "source": [
    "# 排序 降\n",
    "nums = [10, 8, 5, 90, 32]\n",
    "nums.sort(reverse=True)\n",
    "print(nums)"
   ]
  },
  {
   "cell_type": "code",
   "execution_count": 25,
   "metadata": {},
   "outputs": [
    {
     "name": "stdout",
     "output_type": "stream",
     "text": [
      "['bxg', 'itcast', 'itheima']\n"
     ]
    }
   ],
   "source": [
    "names = ['itcast', 'itheima', 'bxg']\n",
    "names.sort()\n",
    "print(names)"
   ]
  },
  {
   "cell_type": "code",
   "execution_count": 26,
   "metadata": {},
   "outputs": [
    {
     "name": "stdout",
     "output_type": "stream",
     "text": [
      "['itheima', 'itcast', 'bxg']\n"
     ]
    }
   ],
   "source": [
    "names = ['itcast', 'itheima', 'bxg']\n",
    "names.sort(reverse=True)\n",
    "print(names)"
   ]
  },
  {
   "cell_type": "code",
   "execution_count": null,
   "metadata": {},
   "outputs": [],
   "source": []
  }
 ],
 "metadata": {
  "kernelspec": {
   "display_name": "Python 3",
   "language": "python",
   "name": "python3"
  },
  "language_info": {
   "codemirror_mode": {
    "name": "ipython",
    "version": 3
   },
   "file_extension": ".py",
   "mimetype": "text/x-python",
   "name": "python",
   "nbconvert_exporter": "python",
   "pygments_lexer": "ipython3",
   "version": "3.7.6"
  }
 },
 "nbformat": 4,
 "nbformat_minor": 4
}
