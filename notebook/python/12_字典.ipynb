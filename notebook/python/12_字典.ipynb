{
 "cells": [
  {
   "cell_type": "code",
   "execution_count": 1,
   "metadata": {},
   "outputs": [
    {
     "name": "stdout",
     "output_type": "stream",
     "text": [
      "{'name': 'itcast', 'age': 16}\n",
      "<class 'dict'>\n"
     ]
    }
   ],
   "source": [
    "# 定义\n",
    "d = {'name': 'itcast', 'age': 16}\n",
    "print(d)\n",
    "print(type(d))"
   ]
  },
  {
   "cell_type": "code",
   "execution_count": 3,
   "metadata": {},
   "outputs": [
    {
     "name": "stdout",
     "output_type": "stream",
     "text": [
      "3\n"
     ]
    }
   ],
   "source": [
    "# 长度\n",
    "d = {'name': 'itcast', 'age': 16, 'gender': True}\n",
    "print(len(d))"
   ]
  },
  {
   "cell_type": "code",
   "execution_count": 6,
   "metadata": {},
   "outputs": [
    {
     "name": "stdout",
     "output_type": "stream",
     "text": [
      "itcast\n",
      "16\n",
      "True\n"
     ]
    }
   ],
   "source": [
    "# 可访问，通过key\n",
    "d = {'name': 'itcast', 'age': 16, 'gender': True}\n",
    "print(d['name'])\n",
    "print(d['age'])\n",
    "print(d['gender'])"
   ]
  },
  {
   "cell_type": "code",
   "execution_count": 7,
   "metadata": {},
   "outputs": [
    {
     "name": "stdout",
     "output_type": "stream",
     "text": [
      "{'name': 'itcast', 'age': 16, 'gender': True, 'address': 'sz'}\n"
     ]
    }
   ],
   "source": [
    "# 添加\n",
    "d = {'name': 'itcast', 'age': 16, 'gender': True}\n",
    "d['address'] = 'sz'\n",
    "print(d)"
   ]
  },
  {
   "cell_type": "code",
   "execution_count": 8,
   "metadata": {},
   "outputs": [
    {
     "name": "stdout",
     "output_type": "stream",
     "text": [
      "{'name': 'itheima', 'age': 16, 'gender': True}\n"
     ]
    }
   ],
   "source": [
    "# 修改\n",
    "d = {'name': 'itcast', 'age': 16, 'gender': True}\n",
    "d['name'] = 'itheima'\n",
    "print(d)"
   ]
  },
  {
   "cell_type": "code",
   "execution_count": 9,
   "metadata": {},
   "outputs": [
    {
     "name": "stdout",
     "output_type": "stream",
     "text": [
      "{'age': 16, 'gender': True}\n"
     ]
    }
   ],
   "source": [
    "# 删除 del\n",
    "d = {'name': 'itcast', 'age': 16, 'gender': True}\n",
    "del d['name']\n",
    "print(d)"
   ]
  },
  {
   "cell_type": "code",
   "execution_count": 10,
   "metadata": {},
   "outputs": [
    {
     "name": "stdout",
     "output_type": "stream",
     "text": [
      "{'age': 16, 'gender': True}\n"
     ]
    }
   ],
   "source": [
    "# 删除 pop\n",
    "d = {'name': 'itcast', 'age': 16, 'gender': True}\n",
    "d.pop('name')\n",
    "print(d)"
   ]
  },
  {
   "cell_type": "code",
   "execution_count": 11,
   "metadata": {},
   "outputs": [
    {
     "name": "stdout",
     "output_type": "stream",
     "text": [
      "{}\n"
     ]
    }
   ],
   "source": [
    "# 清空\n",
    "d = {'name': 'itcast', 'age': 16, 'gender': True}\n",
    "d.clear()\n",
    "print(d)"
   ]
  },
  {
   "cell_type": "code",
   "execution_count": 13,
   "metadata": {},
   "outputs": [
    {
     "name": "stdout",
     "output_type": "stream",
     "text": [
      "2\n",
      "{'itcast': {'age': 16, 'gender': True}, 'itheima': {'age': 12, 'gender': True}}\n"
     ]
    }
   ],
   "source": [
    "# 复杂类型数据\n",
    "stu = {'name': 'itcast', 'age': 16, 'gender': True}\n",
    "stus = {\n",
    "    'itcast': {'age': 16, 'gender': True},\n",
    "    'itheima': {'age': 12, 'gender': True},\n",
    "}\n",
    "print(len(stus))\n",
    "print(stus)"
   ]
  },
  {
   "cell_type": "code",
   "execution_count": null,
   "metadata": {},
   "outputs": [],
   "source": []
  }
 ],
 "metadata": {
  "kernelspec": {
   "display_name": "Python 3",
   "language": "python",
   "name": "python3"
  },
  "language_info": {
   "codemirror_mode": {
    "name": "ipython",
    "version": 3
   },
   "file_extension": ".py",
   "mimetype": "text/x-python",
   "name": "python",
   "nbconvert_exporter": "python",
   "pygments_lexer": "ipython3",
   "version": "3.7.6"
  }
 },
 "nbformat": 4,
 "nbformat_minor": 4
}
