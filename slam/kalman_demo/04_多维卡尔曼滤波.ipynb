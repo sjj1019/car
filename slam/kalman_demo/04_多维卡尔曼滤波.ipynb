{
 "cells": [
  {
   "cell_type": "code",
   "execution_count": 3,
   "metadata": {},
   "outputs": [
    {
     "data": {
      "text/html": [
       "\n",
       "        <style>\n",
       "        .output_wrapper, .output {\n",
       "            height:auto !important;\n",
       "            max-height:100000px;\n",
       "        }\n",
       "        .output_scroll {\n",
       "            box-shadow:none !important;\n",
       "            webkit-box-shadow:none !important;\n",
       "        }\n",
       "        </style>\n",
       "    "
      ],
      "text/plain": [
       "<IPython.core.display.HTML object>"
      ]
     },
     "execution_count": 3,
     "metadata": {},
     "output_type": "execute_result"
    }
   ],
   "source": [
    "%matplotlib inline\n",
    "#format the book\n",
    "import book_format\n",
    "book_format.set_style()"
   ]
  },
  {
   "cell_type": "markdown",
   "metadata": {},
   "source": [
    "# 简介\n",
    "\n",
    "# 牛顿运动定律\n",
    "在前面的案例中,我们假设小车运动是匀速直线运动,那么我们可以根据速度$v$推测出小车经过$t$秒之后的位置$x$\n",
    "$$x = vt + x_0$$\n",
    "\n",
    "在上面的基础上,我们可以增加恒定的加速度$a$,那么公式可以整理为:\n",
    "$$x = \\frac{1}{2}at^2 + v_0t + x_0$$"
   ]
  },
  {
   "cell_type": "markdown",
   "metadata": {},
   "source": [
    "# 卡尔曼滤波算法\n",
    "\n",
    "在前面的章节中,我们学习过卡尔曼滤波算法的步骤:\n",
    "\n",
    "1. 初始化\n",
    "    - 初始化状态\n",
    "    - 初始化方差\n",
    "2. 预测\n",
    "    - 使用运动模型进行预测\n",
    "3. 更新\n",
    "    - 获取测量的均值和方差\n",
    "    - 获取预测的均值和方差\n",
    "    - 计算卡尔曼增益\n",
    "    - 将测量的结果与预测的结果高斯相乘\n",
    "    - 更新预测的方差"
   ]
  },
  {
   "cell_type": "markdown",
   "metadata": {},
   "source": [
    "<u>**预测**</u>\n",
    "\n",
    "$\\begin{array}{|l|l|l|}\n",
    "\\hline\n",
    "\\text{一维} & \\text{一维} & \\text{多维}\\\\\n",
    "& \\text{卡尔曼格式)} & \\\\\n",
    "\\hline\n",
    "\\bar \\mu = \\mu + \\mu_{f_x} & \\bar x = x + dx & \\bar{\\mathbf x} = \\mathbf{Fx} + \\mathbf{Bu}\\\\\n",
    "\\bar\\sigma^2 = \\sigma_x^2 + \\sigma_{f_x}^2 & \\bar P = P + Q & \\bar{\\mathbf P} = \\mathbf{FPF}^\\mathsf T + \\mathbf Q \\\\\n",
    "\\hline\n",
    "\\end{array}$\n",
    "\n",
    "参数说明:\n",
    "\n",
    "$\\mathbf x,\\, \\mathbf P$ 状态均值,协方差. 他们等同于一维中的 $x$ 和 $\\sigma^2$.\n",
    "\n",
    "$\\mathbf F$ 状态转移函数.它与$\\bf x$ 相乘,计算出预测的状态. \n",
    "\n",
    "$\\mathbf Q$ 过程协方差. \n",
    "\n",
    "$\\mathbf B$ and $\\mathbf u$  它是系统的外部输入.\n",
    "\n",
    "<u>**更新**</u>\n",
    "\n",
    "$\\begin{array}{|l|l|l|}\n",
    "\\hline\n",
    "\\text{一维} & \\text{一维} & \\text{多维}\\\\\n",
    "& \\text{( 卡尔曼格式)} & \\\\\n",
    "\\hline\n",
    "& y = z - \\bar x & \\mathbf y = \\mathbf z - \\mathbf{H\\bar x} \\\\\n",
    "& K = \\frac{\\bar P}{\\bar P+R}&\n",
    "\\mathbf K = \\mathbf{\\bar{P}H}^\\mathsf T (\\mathbf{H\\bar{P}H}^\\mathsf T + \\mathbf R)^{-1} \\\\\n",
    "\\mu=\\frac{\\bar\\sigma^2\\, \\mu_z + \\sigma_z^2 \\, \\bar\\mu} {\\bar\\sigma^2 + \\sigma_z^2} & x = \\bar x + Ky & \\mathbf x = \\bar{\\mathbf x} + \\mathbf{Ky} \\\\\n",
    "\\sigma^2 = \\frac{\\sigma_1^2\\sigma_2^2}{\\sigma_1^2+\\sigma_2^2} & P = (1-K)\\bar P &\n",
    "\\mathbf P = (\\mathbf I - \\mathbf{KH})\\mathbf{\\bar{P}} \\\\\n",
    "\\hline\n",
    "\\end{array}$\n",
    "\n",
    "$\\mathbf H$是测量函数,负责将测量矩阵转成和状态矩阵格式一致  \n",
    "$\\mathbf z,R$ 分别为测量的均值与测量噪声协方差,它等同于我们前面讲的测量值$z$和测量的方差$\\sigma_z^2$  \n",
    "$y$和$K$分别为计算结果和卡尔曼增益\n",
    "\n",
    "其中状态相关的($\\mathbf x$,$P$),过程相关的($F$,$Q$),测量相关的($\\mathbf z$,$R$),还有测量函数$H$都是需要我们自己定义的,如果系统还有外部控制,我们还需要定义$\\mathbf B$和$\\mathbf u$\n",
    "\n",
    "在`filter.py.kalman`中已经实现了`predict`和`update`,这可以让我们很方便的去使用卡尔曼滤波"
   ]
  },
  {
   "cell_type": "markdown",
   "metadata": {},
   "source": [
    "# 跟踪小车\n",
    "我们继续跟踪小车,这一次我们要用到隐藏的没有测量的数据来提高我们预测的精度\n",
    "\n",
    "我们先来准备一些模拟数据,我们先准备一些过程噪声process_var,再准备一些测量噪声z_var,然后我们创建了下面这样的函数"
   ]
  },
  {
   "cell_type": "code",
   "execution_count": 4,
   "metadata": {},
   "outputs": [
    {
     "data": {
      "text/plain": [
       "(array([1.346, 1.47 , 2.197, 3.277, 3.217, 4.198, 5.32 , 7.771, 8.806,\n",
       "        9.394]),\n",
       " array([2.643, 2.178, 1.746, 2.877, 3.124, 5.361, 5.117, 7.367, 9.594,\n",
       "        9.04 ]))"
      ]
     },
     "execution_count": 4,
     "metadata": {},
     "output_type": "execute_result"
    }
   ],
   "source": [
    "import math\n",
    "import numpy as np\n",
    "from numpy.random import randn\n",
    "\n",
    "def compute_car_data(z_var,process_var,count,dt=1):\n",
    "    x,vel = 0.,1.\n",
    "    # 测量的标准差\n",
    "    z_std = math.sqrt(z_var)\n",
    "    # 运动过程的标准差\n",
    "    p_std = math.sqrt(process_var)\n",
    "    # 存储真实值, 测量值\n",
    "    xs,zs = [],[]\n",
    "    \n",
    "    for _ in range(count):\n",
    "        # 真实值, 速度可能会因为上坡,下坡,风影响,所以加上过程噪声\n",
    "        v = vel + (randn()*p_std)\n",
    "        x += v*dt\n",
    "        # 真实值\n",
    "        xs.append(x)\n",
    "        # 测量的设备也会因为一些影响而差生误差\n",
    "        zs.append(x + randn()* z_std)\n",
    "        \n",
    "    return np.array(xs),np.array(zs)    \n",
    "\n",
    "compute_car_data(1,1,10,1)"
   ]
  },
  {
   "cell_type": "markdown",
   "metadata": {},
   "source": [
    "## 预测\n",
    "为了进行预测,我们需要设计状态与协方差,运动模型,过程噪声,外部输入\n",
    "\n",
    "### 设计状态变量\n",
    "在一维的卡尔曼滤波中,我们跟踪小车的位置. $\\mu$ 表示小车最有可能出现的位置.$\\sigma^2$ 表示位置最有可能的分布. 小车的位置就是我们所说的状态,$\\mu$就是状态变量\n",
    "\n",
    "在本章我们将同时跟踪小车的位置和速度,这就需要用到多维高斯模型.\n",
    "        $$\\mu = \\begin{bmatrix}10.0\\\\4.5\\end{bmatrix}$$\n",
    "\n",
    "在很多书里面可能是这样来表述状态的:\n",
    "$$\\mathbf x =\\begin{bmatrix}x \\\\ \\dot x\\end{bmatrix}$$\n",
    "\n",
    "其中粗体$\\mathbf x$表示状态矩阵,x表示位置,$\\dot x$表示对位置进行求导结果为速度\n"
   ]
  },
  {
   "cell_type": "markdown",
   "metadata": {},
   "source": [
    "在继续学习之前,我们先来回顾一下矩阵的点乘吧!"
   ]
  },
  {
   "cell_type": "code",
   "execution_count": 5,
   "metadata": {},
   "outputs": [
    {
     "name": "stdout",
     "output_type": "stream",
     "text": [
      "[[19.]\n",
      " [48.]]\n"
     ]
    }
   ],
   "source": [
    "A = np.array([[1,2],[3,4]])\n",
    "x = np.array([[10.],\n",
    "             [4.5]])\n",
    "\n",
    "res = np.dot(A,x)\n",
    "print(res)"
   ]
  },
  {
   "cell_type": "markdown",
   "metadata": {},
   "source": [
    "在python3.5之后,这种写法还可以简写成如下形式:"
   ]
  },
  {
   "cell_type": "code",
   "execution_count": 6,
   "metadata": {},
   "outputs": [
    {
     "name": "stdout",
     "output_type": "stream",
     "text": [
      "[[19.]\n",
      " [48.]]\n"
     ]
    }
   ],
   "source": [
    "res2 = A@x\n",
    "print(res2)"
   ]
  },
  {
   "cell_type": "markdown",
   "metadata": {},
   "source": [
    "## 设计状态协方差\n",
    "另外一半状态高斯模型就是协方差矩阵$\\mathbf P$. 在一维的卡尔曼滤波中,我们初始化了$\\sigma^2$,并且这个值在进行融合的时候还做了更新.  \n",
    "在多维的卡尔曼滤波中,我们同样需要指定这个$\\mathbf P$,并且在滤波的时候需要更新$\\mathbf P$\n",
    "\n",
    "在跟踪小车的过程中,我们先假设位置x和速度vel之间是没有关联关系的,我们可以看看在滤波的过程中会不会发生变化. 我们假设非常不确定小车当前的位置和速度,那么我们可以先指定位置的方差$\\sigma_\\mathtt{pos}^2 = 500 m^2$, 速度的方差$\\sigma_\\mathtt{vel}^2=7^2=49$.\n",
    "\n",
    "所以我们可以写出初始协方差矩阵为:\n",
    "\n",
    "$$\n",
    "\\mathbf P = \\begin{bmatrix}500 & 0 \\\\ 0&49\\end{bmatrix}\n",
    "$$\n",
    "\n",
    "我们可以使用`numpy.diag`很方便的在代码中创建一个对角矩阵"
   ]
  },
  {
   "cell_type": "code",
   "execution_count": 7,
   "metadata": {},
   "outputs": [
    {
     "data": {
      "text/plain": [
       "array([[500.,   0.],\n",
       "       [  0.,  49.]])"
      ]
     },
     "execution_count": 7,
     "metadata": {},
     "output_type": "execute_result"
    }
   ],
   "source": [
    "P = np.diag([500.,49.])\n",
    "P"
   ]
  },
  {
   "cell_type": "markdown",
   "metadata": {},
   "source": [
    "当然我们也可以手工自己编写:"
   ]
  },
  {
   "cell_type": "code",
   "execution_count": 8,
   "metadata": {},
   "outputs": [
    {
     "data": {
      "text/plain": [
       "array([[500.,   0.],\n",
       "       [  0.,  49.]])"
      ]
     },
     "execution_count": 8,
     "metadata": {},
     "output_type": "execute_result"
    }
   ],
   "source": [
    "P = np.array([[500.,0],\n",
    "              [0.,49.]])\n",
    "P"
   ]
  },
  {
   "cell_type": "markdown",
   "metadata": {},
   "source": [
    "# 设计状态矩阵\n",
    "接下来我们来设计过程模型.对于我们的小车来说,我们先假设小车是做直线匀速运动的,所以小车只有x方向的坐标,速度位vel.   \n",
    "卡尔曼滤波是根据物体上一刻的状态来预测当前的状态,那么我们的小车的运动模型应该如下:\n",
    "$$x = v\\Delta t + x_0$$\n",
    "\n",
    "代码实现如下;\n",
    "```python\n",
    "  def predict(pos,movement):\n",
    "    return gaussian(pos.mean + movement.mean,pos.var + movement.var)  \n",
    "```\n",
    "本章我们要做的事情,和一维的差不多,只不过是将单个变量换成了矩阵.\n",
    "\n",
    "$$ \\mathbf x = \\begin{bmatrix}5.4\\\\4.2\\end{bmatrix}, \\, \\, \n",
    "\\dot{\\mathbf x} =  \\begin{bmatrix}1.1\\\\0.\\end{bmatrix} \\\\\n",
    "\\mathbf x = \\dot{\\mathbf x}t + \\mathbf x$$\n",
    "\n",
    "等号左边的$\\mathbf x$表示的是根据模型预测出来的结果,等号右边的$\\mathbf x$表示的是上一次的结果\n",
    "\n",
    "在线性代数中,这种运算其实有很多种表达形式,例如下面这两个二元一次方程:\n",
    "$$\\begin{cases}\n",
    "2x+3y=8\\\\4x-y=2\n",
    "\\end{cases}$$\n",
    "我们将它们写成矩阵的形式就是下面这个样子:\n",
    "$$\\begin{bmatrix}2& 3 \\\\ 4&-1\\end{bmatrix} \\begin{bmatrix}x\\\\y\\end{bmatrix} = \\begin{bmatrix}8\\\\2\\end{bmatrix}$$\n",
    "\n",
    "这个其实就矩阵的乘法,我们要求解$\\mathbf{Ax}=\\mathbf B$中的$\\mathbf x$\n",
    "\n",
    "$$\\mathbf{A} = \\begin{bmatrix}2& 3 \\\\ 4&-1\\end{bmatrix},\\, \\mathbf x = \\begin{bmatrix}x\\\\y\\end{bmatrix}, \\mathbf B=\\begin{bmatrix}8\\\\2\\end{bmatrix}$$\n",
    "\n",
    "我们可以使用`scipy.linalg`中的`solve`函数来进行求解"
   ]
  },
  {
   "cell_type": "code",
   "execution_count": 9,
   "metadata": {},
   "outputs": [
    {
     "data": {
      "text/plain": [
       "array([[1.],\n",
       "       [2.]])"
      ]
     },
     "execution_count": 9,
     "metadata": {},
     "output_type": "execute_result"
    }
   ],
   "source": [
    "from scipy.linalg import solve\n",
    "A = np.array([[2, 3],[4, -1]])\n",
    "b = np.array([[8], [2]])\n",
    "x = solve(A, b)\n",
    "x"
   ]
  },
  {
   "cell_type": "markdown",
   "metadata": {},
   "source": [
    "按照上面所讲的这种方式,我们就可以将我们前面推导的公式,改写成矩阵的乘法.我们用$\\bar x$来表示当前预测状态,$x$表示上一次的状态,可以写出下面这个公式:\n",
    "$$\\mathbf{\\bar x} = \\mathbf{Fx}$$\n",
    "\n",
    "这样我们就可以来预测位置和速度啦!\n",
    "\n",
    "$$\\begin{bmatrix} \\bar x \\\\ \\dot{\\bar x}\\end{bmatrix} = \\begin{bmatrix}? & ? \\\\? & ?\\end{bmatrix}\\begin{bmatrix}x\\\\\\dot x\\end{bmatrix}$$\n",
    "\n",
    "这里面的这些`?`位置该怎么填写呢? 我们可以先分别来预测位置和速度:\n",
    "\n",
    "$$\\begin{cases}\n",
    "\\begin{aligned}\n",
    "\\bar x &= x + \\dot x \\Delta t \\\\\n",
    "\\bar{\\dot x} &= \\dot x\n",
    "\\end{aligned}\n",
    "\\end{cases}$$\n",
    "\n",
    "将这个式子稍微整理一下就是:\n",
    "\n",
    "\n",
    "$$\\begin{cases}\n",
    "\\begin{aligned}\n",
    "\\bar x &= 1x + \\dot x \\Delta t \\\\\n",
    "\\bar{\\dot x} &= 0x + \\dot x\n",
    "\\end{aligned}\n",
    "\\end{cases}$$\n",
    "\n",
    "那么上面的式子写成矩阵的形式就是这样的:\n",
    "\n",
    "\n",
    "$$\\begin{bmatrix} \\bar x \\\\ \\dot{\\bar x}\\end{bmatrix} = \\begin{bmatrix}1 & \\Delta t \\\\0 & 1\\end{bmatrix}\\begin{bmatrix}x\\\\\\dot x\\end{bmatrix}$$\n",
    "\n",
    "简写形式为:\n",
    "$$\\mathbf{\\bar x} = \\mathbf{Fx}$$\n",
    "\n",
    "其中$\\mathbf F$我们称为状态转移函数,从上一状态转移到当前状态.\n",
    "\n",
    "接下来,我们用filterpy来测试一下预测:"
   ]
  },
  {
   "cell_type": "code",
   "execution_count": 10,
   "metadata": {},
   "outputs": [
    {
     "name": "stdout",
     "output_type": "stream",
     "text": [
      "x= [10.45  4.5 ]\n",
      "P= [[500.49   4.9 ]\n",
      " [  4.9   49.  ]]\n"
     ]
    }
   ],
   "source": [
    "from filterpy.kalman import predict\n",
    "import numpy as np\n",
    "dt = 0.1\n",
    "x = np.array([10.0,4.5])\n",
    "\n",
    "P = np.diag([500,49])\n",
    "\n",
    "F = np.array([[1,dt],[0,1]])\n",
    "\n",
    "x,P = predict(x=x,P=P,F=F)\n",
    "print(\"x=\",x)\n",
    "print(\"P=\",P)"
   ]
  },
  {
   "cell_type": "markdown",
   "metadata": {},
   "source": [
    "我们可以再多做几次试验,看看预测的结果:"
   ]
  },
  {
   "cell_type": "code",
   "execution_count": 11,
   "metadata": {},
   "outputs": [
    {
     "name": "stdout",
     "output_type": "stream",
     "text": [
      "x= [10.9  4.5]\n",
      "x= [11.35  4.5 ]\n",
      "x= [11.8  4.5]\n",
      "x= [12.25  4.5 ]\n",
      "x= [12.7  4.5]\n"
     ]
    }
   ],
   "source": [
    "for _ in range(5):\n",
    "    x,P = predict(x=x,P=P,F=F)\n",
    "    print(\"x=\",x)"
   ]
  },
  {
   "cell_type": "markdown",
   "metadata": {},
   "source": [
    "`predict()`函数会同时计算根据模型计算的预测结果,同时还会计算P的值"
   ]
  },
  {
   "cell_type": "code",
   "execution_count": 12,
   "metadata": {},
   "outputs": [
    {
     "name": "stdout",
     "output_type": "stream",
     "text": [
      "[[517.64  29.4 ]\n",
      " [ 29.4   49.  ]]\n"
     ]
    }
   ],
   "source": [
    "print(P)"
   ]
  },
  {
   "cell_type": "markdown",
   "metadata": {},
   "source": [
    "上面的这个对角矩阵结果告诉我们,位置的协方差增大了,并且位置和速度之间是存在关系的.   \n",
    "至于为什么方差变大了,这个其实很容易想明白.因为小车的位置发生变化了,而小车速度存在误差,所以小车的位置受速度影响方差变大.\n",
    "\n",
    "下面我们用绘图的方式将预测前后的协方差绘制出来:"
   ]
  },
  {
   "cell_type": "code",
   "execution_count": 13,
   "metadata": {},
   "outputs": [
    {
     "name": "stdout",
     "output_type": "stream",
     "text": [
      "x= [11.35  4.5 ]\n",
      "P= [[545. 150.]\n",
      " [150. 500.]]\n"
     ]
    },
    {
     "data": {
      "text/plain": [
       "32"
      ]
     },
     "execution_count": 13,
     "metadata": {},
     "output_type": "execute_result"
    },
    {
     "data": {
      "image/png": "[encoded data removed]",
      "text/plain": [
       "<Figure size 648x288 with 1 Axes>"
      ]
     },
     "metadata": {
      "needs_background": "light"
     },
     "output_type": "display_data"
    }
   ],
   "source": [
    "from filterpy.stats import plot_covariance_ellipse\n",
    "\n",
    "dt = 0.3\n",
    "F = np.array([[1, dt], [0, 1]])\n",
    "x = np.array([10.0, 4.5])\n",
    "P = np.diag([500, 500])\n",
    "plot_covariance_ellipse(x, P, edgecolor='r')\n",
    "x, P = predict(x, P, F, Q=0)\n",
    "plot_covariance_ellipse(x, P, edgecolor='k', ls='dashed')\n",
    "\n",
    "print(\"x=\",x)\n",
    "print(\"P=\",P)\n",
    "256//8"
   ]
  },
  {
   "cell_type": "markdown",
   "metadata": {},
   "source": [
    "# 过程噪声\n",
    "在前面的案例中,我们都是假定小车是匀速直线运动,但是在现实世界中,小车很难维持一个匀速运动,比如汽车上坡,溜坡,雨天道路打滑,台风影响等等因素. 为了对模拟这种现实情况,我们引入高斯噪声Q.\n",
    "例如,我们假定匀速运动速度为0.3m/s,当我们加入过程噪声Q之后,小车的速度在0.3m/s上下一定范围内浮动.\n",
    "\n",
    "如果是一维卡尔曼滤波那么小车的方差=方差+过程噪声Q,如果是多维的卡尔曼滤波,那么协方差P=P+Q\n",
    "\n",
    "我们也可以使用filterpy中提供的函数`Q_discrete_white_noise`来生成这种高斯白噪声Q"
   ]
  },
  {
   "cell_type": "code",
   "execution_count": 14,
   "metadata": {},
   "outputs": [
    {
     "name": "stdout",
     "output_type": "stream",
     "text": [
      "[[0.588 1.175]\n",
      " [1.175 2.35 ]]\n",
      "[[0.0001 0.    ]\n",
      " [0.     0.0001]]\n"
     ]
    }
   ],
   "source": [
    "from filterpy.common import Q_discrete_white_noise\n",
    "import numpy as np\n",
    "Q = Q_discrete_white_noise(dim=2,dt=1,var=2.35)\n",
    "\n",
    "print(Q)\n",
    "np.set_printoptions(suppress=False,precision=20)\n",
    "Q = 0.01 ** 2 * np.eye(2)\n",
    "\n",
    "print(Q)\n"
   ]
  },
  {
   "cell_type": "markdown",
   "metadata": {},
   "source": [
    "# 控制方程\n",
    "卡尔曼滤波不仅仅可以过滤数据,它还能将外部的一些控制整合到运算中.例如我们的小车,我们可能不停地修改它的线速度和角速度,卡尔曼滤波可以根据当前的位置,当前速度,以及组合外部输入的影响因素来进行预测!\n",
    "\n",
    "例如,小车在做直线运动的过程中,遇到了下坡,这时它就受到了重力加速度的影响,存在一个竖直方向的加速度,这个就是外部输入控制.  \n",
    "我们通常用变量$u$来表示\n",
    "而我们的状态矩阵可能是`[x,v]`,但是加速度是一个值$g$,我们需要一个控制矩阵$B$,将加速度的形式转成和我们状态矩阵形状相同,以便它能够参与到$\\mathbf{\\bar x} = \\mathbf{Fx} $ 的运算中去.  \n",
    "\n",
    "所以我们最终我们的公式将写成这样:\n",
    "\n",
    "$$\\mathbf{\\bar x} = \\mathbf{Fx} + \\mathbf{Bu}$$\n",
    "\n",
    "其中$u$表示外部输入,$B$表示将$u$转成和状态矩阵相同维度的转换矩阵\n",
    "\n",
    "例如小车做直线运动时的加速度为a,那么我们用矩阵表示u=[a],我们如果想让u的形状和状态矩阵$ \\mathbf x = \\begin{bmatrix}5.4\\\\4.2\\end{bmatrix}$相同的话,我们需要B矩阵:$ \\mathbf x = \\begin{bmatrix} \\frac {1} {2}t^2 \\\\t\\end{bmatrix}$\n",
    "\n",
    "至此,我们就完成了状态方程的推导,我们再把他们总结一下.\n",
    "\n",
    "我们假设了小车做直线加速运动,那么位置的公式为:\n",
    "$$x = x_0 + v_0t + \\frac{1}{2}at^2$$\n",
    "速度的公式为:  \n",
    "$$v = v_0t + at$$\n",
    "\n",
    "我们将上面这两个公式稍作整理:\n",
    "$$x = 1*x_0 + t*v_0 + \\frac{1}{2}t^2*a$$\n",
    "$$v = 0*x_0 + t*v_0 + t*a$$\n",
    "\n",
    "然后我们可以将上面的式子改成矩阵的形式:\n",
    "$$\\begin{aligned}\n",
    "\\begin{bmatrix}\\bar x \\\\ \\bar{\\dot x}\\end{bmatrix} &= \\begin{bmatrix}1&\\Delta t  \\\\ 0&1\\end{bmatrix}  \\begin{bmatrix}x \\\\ \\dot x\\end{bmatrix}  + \\begin{bmatrix}\\frac{1}{2}t^2 \\\\ t\\end{bmatrix}\\begin{bmatrix} a\\end{bmatrix}\\\\\n",
    "\\mathbf{\\bar x} = \\mathbf{Fx} + \\mathbf{Bu}\n",
    "\\end{aligned}$$"
   ]
  },
  {
   "cell_type": "markdown",
   "metadata": {},
   "source": [
    "加入小车做的是匀速运动,则小车的B和u都为0,我们可以来进行一下预测"
   ]
  },
  {
   "cell_type": "code",
   "execution_count": 15,
   "metadata": {},
   "outputs": [
    {
     "name": "stdout",
     "output_type": "stream",
     "text": [
      "x= [12.7  4.5]\n",
      "P= [[680.0001 300.    ]\n",
      " [300.     500.0001]]\n"
     ]
    }
   ],
   "source": [
    "B = 0 \n",
    "u = 0\n",
    "x,P = predict(x,P,F,Q,B,u)\n",
    "print(\"x=\",x)\n",
    "print(\"P=\",P)"
   ]
  },
  {
   "cell_type": "markdown",
   "metadata": {},
   "source": [
    "至此,我们已经完成了预测部分的所有内容\n",
    "x,P : 表示状态和状态协方差矩阵\n",
    "F,Q : 模型和噪声协方差\n",
    "B,u : 这个不是必须的,控制方程"
   ]
  },
  {
   "cell_type": "markdown",
   "metadata": {},
   "source": [
    "## 更新的步骤\n",
    "下面我们开始来实现一下更新的步骤,在一维卡尔曼中我们计算测量值和预测值的差异:\n",
    "$$y = z - \\bar x$$ \n",
    "在多维的卡尔曼滤波中,所有的数据都是矩阵形式,所以它的公式如下:\n",
    "$$\\mathbf y = \\mathbf z - \\mathbf{H\\bar x} $$\n",
    "那这里出现的H矩阵是干嘛用的呢 ?  \n",
    "按照前面额示例,我们的状态矩阵为$\\mathbf x = \\begin{bmatrix}x\\\\ \\dot x\\end{bmatrix}$ ,它包含位置和速度,而我们测量的矩阵可能只包含位置$\\mathbf z = \\begin{bmatrix}z_1\\end{bmatrix}$, 很显然x和z没有办法在上面的式子中,直接进行相加,这个时候我们就需要H矩阵将x矩阵转成能与测量矩阵进行运算的格式.  \n",
    "想上面的这种情况,测量的数据只有**位置**我们可以推算出$H = \\begin{bmatrix} 1 & 0\\end{bmatrix}$  \n",
    "假设我们能同时测量**位置**和**速度**,则$H = \\begin{bmatrix} 1 & 1\\end{bmatrix}$"
   ]
  },
  {
   "cell_type": "code",
   "execution_count": 16,
   "metadata": {},
   "outputs": [],
   "source": [
    "H = np.array([[1., 0.]])"
   ]
  },
  {
   "cell_type": "markdown",
   "metadata": {},
   "source": [
    "### 设计测量的协方差\n",
    "通常我们用R来表示测量噪声. 我们用一把尺子测量同一枚硬币的直径,第一次测量为1.5cm,第二次测量为:1.6cm,第三次测量为:1.4cm. 由于是同一把尺子,对同一个物品进行测量,很显然这之前存在测量误差,我们把这种测量的误差称为噪声.\n",
    "假设我们用$\\sigma$来表示标准差,那么它的方差就是$\\sigma^2$,它表示测量的数据有97%的可能落在$3\\sigma$范围内\n",
    "  \n",
    "我们用$R = \\begin{bmatrix} \\sigma^2 \\end{bmatrix}$来表示测量的噪声,当然这仅仅只是当只测量一种数据的情况下,我们可以这样写.\n",
    "\n",
    "如果测量的数据是多个,例如我们同时有两个设备对速度和位置分别进行测量,我们假设测量位置的设备方差为5,测量速度的设备方差为3.多个数据我们就需要用协方差矩阵来表示:\n",
    "$$R = \\begin{bmatrix}5&0\\\\0&3\\end{bmatrix}$$\n"
   ]
  },
  {
   "cell_type": "code",
   "execution_count": 17,
   "metadata": {},
   "outputs": [
    {
     "name": "stdout",
     "output_type": "stream",
     "text": [
      "x = [ 1.0854014473866513 -0.6240868431990005]\n"
     ]
    }
   ],
   "source": [
    "from filterpy.kalman import update\n",
    "z = 1.\n",
    "R = np.array([[5]])\n",
    "x, P = update(x, P, z, R, H)\n",
    "print('x =', x)"
   ]
  },
  {
   "cell_type": "code",
   "execution_count": 19,
   "metadata": {},
   "outputs": [
    {
     "name": "stdout",
     "output_type": "stream",
     "text": [
      "x =  [[0. 0.]]\n",
      "R =  [[1.]]\n",
      "Q = \n",
      " [[1. 0.]\n",
      " [0. 1.]]\n"
     ]
    },
    {
     "data": {
      "image/png": "[encoded data removed]",
      "text/plain": [
       "<Figure size 648x288 with 1 Axes>"
      ]
     },
     "metadata": {
      "needs_background": "light"
     },
     "output_type": "display_data"
    }
   ],
   "source": [
    "from filterpy.kalman import KalmanFilter\n",
    "from filterpy.common import Q_discrete_white_noise\n",
    "\n",
    "car_filter = KalmanFilter(dim_x=2, dim_z=1)\n",
    "print('x = ', car_filter.x.T)\n",
    "print('R = ', car_filter.R)\n",
    "print('Q = \\n', car_filter.Q)\n",
    "\n",
    "dt = 0.1\n",
    "x = np.array([0,0.])\n",
    "F = np.array([[1., dt],\n",
    "               [0.,  1.]]) \n",
    "P = np.array([[500,0],\n",
    "              [0,500]])\n",
    "Q =  Q_discrete_white_noise(dim=2, dt=dt, var=0.01)\n",
    "\n",
    "R = np.array([[5.]])\n",
    "H = np.array([[1.,0]])\n",
    "\n",
    "car_filter.x = x\n",
    "car_filter.F = F\n",
    "car_filter.P = P\n",
    "car_filter.Q = Q\n",
    "car_filter.R = R\n",
    "car_filter.H = H\n",
    "\n",
    "\n",
    "\n",
    "# 生成模拟数据\n",
    "actual,zs = compute_car_data(5,0.01,50)\n",
    "\n",
    "\n",
    "\n",
    "xs, cov = [], []\n",
    "for z in zs:\n",
    "    car_filter.predict()\n",
    "    car_filter.update(z)\n",
    "    xs.append(car_filter.x)\n",
    "    cov.append(car_filter.P)\n",
    "\n",
    "xs, cov = np.array(xs), np.array(cov)\n",
    "\n",
    "\n",
    "\n",
    "import matplotlib.pyplot as plt\n",
    "import book_plots as bp\n",
    "def plot_track(ps,actual,zs,cov):\n",
    "    count = len(zs)\n",
    "    bp.plot_track(actual, c='k')\n",
    "    bp.plot_measurements(range(1, count + 1), zs)\n",
    "    bp.plot_filter(range(1, count + 1), ps)\n",
    "    \n",
    "    plt.show()\n",
    "\n",
    "\n",
    "plot_track(xs[:, 0], actual, zs, cov)\n",
    "    \n",
    "    \n",
    "\n"
   ]
  },
  {
   "cell_type": "markdown",
   "metadata": {},
   "source": []
  },
  {
   "cell_type": "code",
   "execution_count": 26,
   "metadata": {},
   "outputs": [],
   "source": [
    "dt = 0.1\n",
    "R_var = 5\n",
    "Q_var = 0.01\n",
    "x = np.array([[10.0, 4.5]]).T\n",
    "P = np.diag([500, 49])\n",
    "F = np.array([[1, dt],\n",
    "              [0,  1]])\n",
    "H = np.array([[1., 0.]])\n",
    "R = np.array([[R_var]])\n",
    "Q = Q_discrete_white_noise(dim=2, dt=dt, var=Q_var)"
   ]
  },
  {
   "cell_type": "code",
   "execution_count": 27,
   "metadata": {},
   "outputs": [
    {
     "data": {
      "image/png": "[encoded data removed]",
      "text/plain": [
       "<Figure size 648x288 with 1 Axes>"
      ]
     },
     "metadata": {
      "needs_background": "light"
     },
     "output_type": "display_data"
    }
   ],
   "source": [
    "from scipy.linalg import inv\n",
    "\n",
    "count = 50\n",
    "track, zs = compute_car_data(R_var, Q_var, count)\n",
    "xs, cov = [], []\n",
    "for z in zs:\n",
    "    # 预测\n",
    "    x = F @ x\n",
    "    P = F @ P @ F.T + Q\n",
    "    \n",
    "    #更新\n",
    "    S = H @ P @ H.T + R\n",
    "    K = P @ H.T @ inv(S)\n",
    "    y = z - H @ x\n",
    "    x += K @ y\n",
    "    P = P - K @ H @ P\n",
    "    \n",
    "    xs.append(x)\n",
    "    cov.append(P)\n",
    "\n",
    "xs, cov = np.array(xs), np.array(cov)\n",
    "plot_track(xs[:, 0], track, zs, cov)"
   ]
  },
  {
   "cell_type": "code",
   "execution_count": null,
   "metadata": {},
   "outputs": [],
   "source": []
  }
 ],
 "metadata": {
  "kernelspec": {
   "display_name": "Python 3",
   "language": "python",
   "name": "python3"
  },
  "language_info": {
   "codemirror_mode": {
    "name": "ipython",
    "version": 3
   },
   "file_extension": ".py",
   "mimetype": "text/x-python",
   "name": "python",
   "nbconvert_exporter": "python",
   "pygments_lexer": "ipython3",
   "version": "3.7.2"
  }
 },
 "nbformat": 4,
 "nbformat_minor": 4
}
