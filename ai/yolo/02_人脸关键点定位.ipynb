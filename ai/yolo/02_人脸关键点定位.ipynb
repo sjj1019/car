{
 "cells": [
  {
   "cell_type": "code",
   "execution_count": 1,
   "metadata": {},
   "outputs": [],
   "source": [
    "# dlib包 安装这个包\n",
    "# conda install --channel https://conda.anaconda.org/conda-forge dlib"
   ]
  },
  {
   "cell_type": "code",
   "execution_count": null,
   "metadata": {},
   "outputs": [],
   "source": [
    "# pip install imutils #数据类型转换工具包"
   ]
  },
  {
   "cell_type": "code",
   "execution_count": 4,
   "metadata": {},
   "outputs": [],
   "source": [
    "import dlib\n",
    "import cv2\n",
    "import numpy as np\n",
    "from imutils import face_utils"
   ]
  },
  {
   "cell_type": "code",
   "execution_count": 7,
   "metadata": {},
   "outputs": [],
   "source": [
    "## dlib人脸识别的模型\n",
    "predictor_path = './shape_predictor_68_face_landmarks.dat'\n",
    "detector = dlib.get_frontal_face_detector()\n",
    "predictor = dlib.shape_predictor(predictor_path)\n",
    "\n",
    "#获取人脸的关键特征点\n",
    "def get_face_landmarks(image):\n",
    "    dets = detector(image,1)\n",
    "    shape = np.empty([1,1])\n",
    "    for k,d in enumerate(dets):\n",
    "        shape = predictor(image,d)\n",
    "        shape = face_utils.shape_to_np(shape)\n",
    "    return shape\n",
    "\n",
    "img = cv2.imread('./aobama2.jpg')\n",
    "landmarks = get_face_landmarks(img)\n",
    "\n",
    "for (x,y) in landmarks:\n",
    "    cv2.circle(img,(x,y),2,(0,255,0),3)\n",
    "cv2.imshow(\"img\",img)\n",
    "cv2.waitKey(0)\n",
    "cv2.destroyAllWindows()"
   ]
  },
  {
   "cell_type": "code",
   "execution_count": null,
   "metadata": {},
   "outputs": [],
   "source": []
  }
 ],
 "metadata": {
  "kernelspec": {
   "display_name": "Python 3",
   "language": "python",
   "name": "python3"
  },
  "language_info": {
   "codemirror_mode": {
    "name": "ipython",
    "version": 3
   },
   "file_extension": ".py",
   "mimetype": "text/x-python",
   "name": "python",
   "nbconvert_exporter": "python",
   "pygments_lexer": "ipython3",
   "version": "3.7.9"
  }
 },
 "nbformat": 4,
 "nbformat_minor": 4
}
